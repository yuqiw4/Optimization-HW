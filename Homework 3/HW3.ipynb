{
 "cells": [
  {
   "cell_type": "markdown",
   "metadata": {},
   "source": [
    "# ANLY 561 HW3\n",
    "\n",
    "Name:Yuqi Wang   \n",
    "NetID:yw545"
   ]
  },
  {
   "cell_type": "code",
   "execution_count": 12,
   "metadata": {
    "collapsed": true
   },
   "outputs": [],
   "source": [
    "\n",
    "'''\n",
    "This code imports numpy packages and allows us to pass data from python to global javascript\n",
    "objects. It was developed by znah@github\n",
    "'''\n",
    "\n",
    "import json\n",
    "import numpy as np\n",
    "import numpy.random as rd\n",
    "from ipywidgets import widgets\n",
    "from IPython.display import HTML, Javascript, display\n",
    "\n",
    "def json_numpy_serializer(o):\n",
    "    if isinstance(o, np.ndarray):\n",
    "        return o.tolist()\n",
    "    raise TypeError(\"{} of type {} is not JSON serializable\".format(repr(o), type(o)))\n",
    "\n",
    "def jsglobal(**params):\n",
    "    code = [];\n",
    "    for name, value in params.items():\n",
    "        jsdata = json.dumps(value, default=json_numpy_serializer)\n",
    "        code.append(\"window.{}={};\".format(name, jsdata))\n",
    "    display(Javascript(\"\\n\".join(code)))\n"
   ]
  },
  {
   "cell_type": "code",
   "execution_count": 13,
   "metadata": {},
   "outputs": [
    {
     "data": {
      "application/javascript": [
       "\n",
       "// Loading the compiled MathBox bundle.\n",
       "require.config({\n",
       "    baseUrl:'', paths: {mathBox: 'http://localhost:8888/tree/Desktop/static/mathbox/build/mathbox-bundle'}\n",
       "    // online compilation\n",
       "    //baseUrl: '', paths: {mathBox: '../static/mathbox/build/mathbox-bundle'}\n",
       "    // online compilation without local library-- remove baseUrl\n",
       "    //paths: {mathBox: '//cdn.rawgit.com/unconed/mathbox/eaeb8e15/build/mathbox-bundle'}\n",
       "});\n",
       "\n",
       "// Minified graphing functions\n",
       "\n",
       "window.with_mathbox=function(element,func){require(['mathBox'],function(){var mathbox=mathBox({plugins:['core','controls','cursor','mathbox'],controls:{klass:THREE.OrbitControls},mathbox:{inspect:!1},element:element[0],loop:{start:!1},});var three=mathbox.three;three.renderer.setClearColor(new THREE.Color(0xFFFFFF),1.0);three.camera.position.set(-1,1,2);three.controls.noKeys=!0;three.element.style.height=\"400px\";three.element.style.width=\"100%\";function isInViewport(element){var rect=element.getBoundingClientRect();var html=document.documentElement;var w=window.innerWidth||html.clientWidth;var h=window.innerHeight||html.clientHeight;return rect.top<h&&rect.left<w&&rect.bottom>0&&rect.right>0}\n",
       "var intervalId=setInterval(function(){if(three.element.offsetParent===null){clearInterval(intervalId);three.destroy();return}\n",
       "var visible=isInViewport(three.canvas);if(three.Loop.running!=visible){visible?three.Loop.start():three.Loop.stop()}},100);func(mathbox);window.dispatchEvent(new Event('resize'))})};window.plotGraph=function(mathbox,f,xlabel='x',ylabel='y',zlabel='f(x,y)',rng=[[-3,3],[-5,5],[-3,3]]){var view=mathbox.cartesian({range:rng,scale:[1,1,1]},{rotation:(t)=>[0,t*0.02,0]}).grid({axes:[1,3]})\n",
       "view.area({id:'yaxis',width:1,height:1,axes:[1,3],expr:function(emit,x,y,i,j){emit(4,0,0);emit(0,0,0)},items:2,channels:3,}).text({font:'Helvetica',style:'bold',width:16,height:5,depth:2,expr:function(emit,i,j,k,time){emit(ylabel)},}).label({color:'#000000',snap:!1,outline:2,size:24,offset:[0,-32],depth:.5,zIndex:1});view.vector({points:'#yaxis',color:0x000000,width:9,start:!0});view.area({id:'xaxis',width:1,height:1,axes:[1,3],expr:function(emit,x,y,i,j){emit(0,0,4);emit(0,0,0)},items:2,channels:3,}).text({font:'Helvetica',style:'bold',width:16,height:5,depth:2,expr:function(emit,i,j,k,time){emit(xlabel)},}).label({color:'#000000',snap:!1,outline:2,size:24,offset:[0,-32],depth:.5,zIndex:1,});view.vector({points:'#xaxis',color:0x000000,width:9,start:!0,});view.area({id:'zaxis',width:1,height:1,axes:[1,3],expr:function(emit,x,y,i,j){emit(0,4,0);emit(0,0,0)},items:2,channels:3,}).text({font:'Helvetica',style:'bold',width:16,height:5,depth:2,expr:function(emit,i,j,k,time){emit(zlabel)},}).label({color:'#000000',snap:!1,outline:2,size:24,offset:[0,-32],depth:.5,zIndex:1,});view.vector({points:'#zaxis',color:0x000000,width:9,start:!0,});var graph=view.area({id:'graph',width:64,height:64,axes:[1,3],expr:function(emit,y,x,i,j){emit(y,f(x,y),x)},items:1,channels:3,});view.surface({shaded:!0,lineX:!0,lineY:!0,points:graph,color:0x0000FF,width:1,});return view};window.addSegment=function(view,p0,p1,col){view.array({width:128,expr:function(emit,i,time){var b=i/128;var a=1-b;emit(a*p0[1]+b*p1[1],a*p0[2]+b*p1[2],a*p0[0]+b*p1[0])},channels:3,});view.line({color:col,width:10,size:2.5,stroke:'dotted',start:!1,end:!1,})};window.addPoint=function(view,p,col,label){view.array({width:4,items:2,channels:3,expr:function(emit,i,t){emit(p[1],p[2],p[0])},}).point({color:col,points:'<',size:15,depth:.5,zBias:50,}).text({font:'Helvetica',style:'bold',width:16,height:5,depth:2,expr:function(emit,i,j,k,time){emit(label)},}).label({color:col,snap:!1,outline:2,size:24,offset:[0,-32],depth:.5,zIndex:1,})};window.addCurve=function(view,ab,x,y,z,col){view.array({width:128,expr:function(emit,i,time){var t=(ab[1]-ab[0])*(i/128)+ab[0];emit(y(t),z(t),x(t))},channels:3,});view.line({color:col,width:20,size:2.5,start:!0,end:!0,})};window.addClosedCurve=function(view,ab,x,y,z,col){view.array({width:128,expr:function(emit,i,time){var t=(ab[1]-ab[0])*(i/128)+ab[0];emit(y(t),z(t),x(t))},channels:3,});view.line({color:col,width:20,size:2.5,start:!1,end:!1,})};window.addSurface=function(view,ab,cd,x,y,z,col,opa){view.matrix({width:64,height:64,expr:function(emit,i,j,time){var p=(ab[1]-ab[0])*(i/64)+ab[0];var q=(cd[1]-cd[0])*(j/64)+cd[0];emit(y(p,q),z(p,q),x(p,q))},items:1,channels:3}).surface({shaded:!0,lineX:!1,lineY:!1,color:col,width:1,opacity:opa})}\n",
       "window.addSequence=function(view,seq,col){var idx=0;var d=new Date();var start=d.getTime();view.array({width:1,expr:function(emit,i,time){var nd=new Date();var now=nd.getTime();if(1000<now-start){idx=idx+1;if(seq.length<=idx){idx=0}\n",
       "start=now}\n",
       "emit(seq[idx][1],seq[idx][2],seq[idx][0])},items:1,channels:3}).point({color:col,points:'<',size:15,depth:.5,zBias:50,})}"
      ],
      "text/plain": [
       "<IPython.core.display.Javascript object>"
      ]
     },
     "metadata": {},
     "output_type": "display_data"
    }
   ],
   "source": [
    "%%javascript\n",
    "\n",
    "// Loading the compiled MathBox bundle.\n",
    "require.config({\n",
    "    baseUrl:'', paths: {mathBox: 'http://localhost:8888/tree/Desktop/static/mathbox/build/mathbox-bundle'}\n",
    "    // online compilation\n",
    "    //baseUrl: '', paths: {mathBox: '../static/mathbox/build/mathbox-bundle'}\n",
    "    // online compilation without local library-- remove baseUrl\n",
    "    //paths: {mathBox: '//cdn.rawgit.com/unconed/mathbox/eaeb8e15/build/mathbox-bundle'}\n",
    "});\n",
    "\n",
    "// Minified graphing functions\n",
    "\n",
    "window.with_mathbox=function(element,func){require(['mathBox'],function(){var mathbox=mathBox({plugins:['core','controls','cursor','mathbox'],controls:{klass:THREE.OrbitControls},mathbox:{inspect:!1},element:element[0],loop:{start:!1},});var three=mathbox.three;three.renderer.setClearColor(new THREE.Color(0xFFFFFF),1.0);three.camera.position.set(-1,1,2);three.controls.noKeys=!0;three.element.style.height=\"400px\";three.element.style.width=\"100%\";function isInViewport(element){var rect=element.getBoundingClientRect();var html=document.documentElement;var w=window.innerWidth||html.clientWidth;var h=window.innerHeight||html.clientHeight;return rect.top<h&&rect.left<w&&rect.bottom>0&&rect.right>0}\n",
    "var intervalId=setInterval(function(){if(three.element.offsetParent===null){clearInterval(intervalId);three.destroy();return}\n",
    "var visible=isInViewport(three.canvas);if(three.Loop.running!=visible){visible?three.Loop.start():three.Loop.stop()}},100);func(mathbox);window.dispatchEvent(new Event('resize'))})};window.plotGraph=function(mathbox,f,xlabel='x',ylabel='y',zlabel='f(x,y)',rng=[[-3,3],[-5,5],[-3,3]]){var view=mathbox.cartesian({range:rng,scale:[1,1,1]},{rotation:(t)=>[0,t*0.02,0]}).grid({axes:[1,3]})\n",
    "view.area({id:'yaxis',width:1,height:1,axes:[1,3],expr:function(emit,x,y,i,j){emit(4,0,0);emit(0,0,0)},items:2,channels:3,}).text({font:'Helvetica',style:'bold',width:16,height:5,depth:2,expr:function(emit,i,j,k,time){emit(ylabel)},}).label({color:'#000000',snap:!1,outline:2,size:24,offset:[0,-32],depth:.5,zIndex:1});view.vector({points:'#yaxis',color:0x000000,width:9,start:!0});view.area({id:'xaxis',width:1,height:1,axes:[1,3],expr:function(emit,x,y,i,j){emit(0,0,4);emit(0,0,0)},items:2,channels:3,}).text({font:'Helvetica',style:'bold',width:16,height:5,depth:2,expr:function(emit,i,j,k,time){emit(xlabel)},}).label({color:'#000000',snap:!1,outline:2,size:24,offset:[0,-32],depth:.5,zIndex:1,});view.vector({points:'#xaxis',color:0x000000,width:9,start:!0,});view.area({id:'zaxis',width:1,height:1,axes:[1,3],expr:function(emit,x,y,i,j){emit(0,4,0);emit(0,0,0)},items:2,channels:3,}).text({font:'Helvetica',style:'bold',width:16,height:5,depth:2,expr:function(emit,i,j,k,time){emit(zlabel)},}).label({color:'#000000',snap:!1,outline:2,size:24,offset:[0,-32],depth:.5,zIndex:1,});view.vector({points:'#zaxis',color:0x000000,width:9,start:!0,});var graph=view.area({id:'graph',width:64,height:64,axes:[1,3],expr:function(emit,y,x,i,j){emit(y,f(x,y),x)},items:1,channels:3,});view.surface({shaded:!0,lineX:!0,lineY:!0,points:graph,color:0x0000FF,width:1,});return view};window.addSegment=function(view,p0,p1,col){view.array({width:128,expr:function(emit,i,time){var b=i/128;var a=1-b;emit(a*p0[1]+b*p1[1],a*p0[2]+b*p1[2],a*p0[0]+b*p1[0])},channels:3,});view.line({color:col,width:10,size:2.5,stroke:'dotted',start:!1,end:!1,})};window.addPoint=function(view,p,col,label){view.array({width:4,items:2,channels:3,expr:function(emit,i,t){emit(p[1],p[2],p[0])},}).point({color:col,points:'<',size:15,depth:.5,zBias:50,}).text({font:'Helvetica',style:'bold',width:16,height:5,depth:2,expr:function(emit,i,j,k,time){emit(label)},}).label({color:col,snap:!1,outline:2,size:24,offset:[0,-32],depth:.5,zIndex:1,})};window.addCurve=function(view,ab,x,y,z,col){view.array({width:128,expr:function(emit,i,time){var t=(ab[1]-ab[0])*(i/128)+ab[0];emit(y(t),z(t),x(t))},channels:3,});view.line({color:col,width:20,size:2.5,start:!0,end:!0,})};window.addClosedCurve=function(view,ab,x,y,z,col){view.array({width:128,expr:function(emit,i,time){var t=(ab[1]-ab[0])*(i/128)+ab[0];emit(y(t),z(t),x(t))},channels:3,});view.line({color:col,width:20,size:2.5,start:!1,end:!1,})};window.addSurface=function(view,ab,cd,x,y,z,col,opa){view.matrix({width:64,height:64,expr:function(emit,i,j,time){var p=(ab[1]-ab[0])*(i/64)+ab[0];var q=(cd[1]-cd[0])*(j/64)+cd[0];emit(y(p,q),z(p,q),x(p,q))},items:1,channels:3}).surface({shaded:!0,lineX:!1,lineY:!1,color:col,width:1,opacity:opa})}\n",
    "window.addSequence=function(view,seq,col){var idx=0;var d=new Date();var start=d.getTime();view.array({width:1,expr:function(emit,i,time){var nd=new Date();var now=nd.getTime();if(1000<now-start){idx=idx+1;if(seq.length<=idx){idx=0}\n",
    "start=now}\n",
    "emit(seq[idx][1],seq[idx][2],seq[idx][0])},items:1,channels:3}).point({color:col,points:'<',size:15,depth:.5,zBias:50,})}"
   ]
  },
  {
   "cell_type": "markdown",
   "metadata": {},
   "source": [
    "## Problem 1\n",
    "### $f(x,y)= x^2 + y^2$"
   ]
  },
  {
   "cell_type": "markdown",
   "metadata": {},
   "source": [
    "<img src=\"p1.PNG\">"
   ]
  },
  {
   "cell_type": "markdown",
   "metadata": {},
   "source": [
    "**Comment: ** It is strictly convex."
   ]
  },
  {
   "cell_type": "markdown",
   "metadata": {},
   "source": [
    "### $f(x,y)= x^2$"
   ]
  },
  {
   "cell_type": "markdown",
   "metadata": {},
   "source": [
    "<img src=\"p2.PNG\">"
   ]
  },
  {
   "cell_type": "markdown",
   "metadata": {},
   "source": [
    "**Comment: ** It is convex but not strictly convex."
   ]
  },
  {
   "cell_type": "markdown",
   "metadata": {},
   "source": [
    "### $f(x,y)= x^2-y^2$"
   ]
  },
  {
   "cell_type": "markdown",
   "metadata": {},
   "source": [
    "<img src=\"p3.PNG\">"
   ]
  },
  {
   "cell_type": "markdown",
   "metadata": {},
   "source": [
    "**Comment: ** It is NOT convex."
   ]
  },
  {
   "cell_type": "markdown",
   "metadata": {},
   "source": [
    "### $f(x,y)= -x^2$"
   ]
  },
  {
   "cell_type": "markdown",
   "metadata": {},
   "source": [
    "<img src=\"p4.PNG\">"
   ]
  },
  {
   "cell_type": "markdown",
   "metadata": {},
   "source": [
    "**Comment: ** It is NOT convex."
   ]
  },
  {
   "cell_type": "markdown",
   "metadata": {},
   "source": [
    "### $f(x,y)= -x^2-y^2$"
   ]
  },
  {
   "cell_type": "markdown",
   "metadata": {},
   "source": [
    "<img src=\"p5.PNG\">"
   ]
  },
  {
   "cell_type": "markdown",
   "metadata": {},
   "source": [
    "**Comment: ** It is NOT convex."
   ]
  },
  {
   "cell_type": "markdown",
   "metadata": {},
   "source": [
    "## Problem 2\n",
    "Try to prove that $f(x_1, x_2)\\geq f(y_1,y_2) + \\partial_1 f(y_1, y_2)(x_1-y_1) + \\partial_2f(y_1,y_2)(x_2-y_2)$ for all ${\\bf x} \\not= {\\bf y}\\in X$ or $f(x_1, x_2)> f(y_1,y_2) + \\partial_1 f(y_1, y_2)(x_1-y_1) + \\partial_2f(y_1,y_2)(x_2-y_2)$ for all ${\\bf x} \\not= {\\bf y}\\in X$  \n",
    "**OR**  \n",
    "disprove it. "
   ]
  },
  {
   "cell_type": "markdown",
   "metadata": {},
   "source": [
    "### $f(x,y)= x^2 + y^2$   "
   ]
  },
  {
   "cell_type": "markdown",
   "metadata": {},
   "source": [
    "Proof:  \n",
    "$f(x_1, x_2) = x_1^2 + x_2^2$  \n",
    "$f(y_1,y_2) = y_1^2 + y_2^2$  \n",
    "$\\partial_1 f(y_1, y_2)(x_1-y_1) = 2 y_1(x_1-y_1)$  \n",
    "$\\partial_2 f(y_1,y_2)(x_2-y_2) = 2y_2(x_2-y_2)$  \n",
    "So  \n",
    "$f(y_1,y_2) + \\partial_1 f(y_1, y_2)(x_1-y_1) + \\partial_2f(y_1,y_2)(x_2-y_2)$  \n",
    "$=  y_1^2 + y_2^2+2 y_1(x_1-y_1)+2y_2(x_2-y_2)$  \n",
    "$= y_1^2 + y_2^2+2 y_1x_1-2 y_1^2+2y_2x_2-2y_2^2$  \n",
    "$= 2 y_1x_1+2y_2x_2-y_2^2- y_1^2$  \n",
    "$f(x_1, x_2) - [f(y_1,y_2) + \\partial_1 f(y_1, y_2)(x_1-y_1) + \\partial_2f(y_1,y_2)(x_2-y_2)]$  \n",
    "$= x_1^2 + x_2^2 - 2 y_1x_1 -2y_2x_2+y_2^2+ y_1^2$  \n",
    "$= (y_1-x_1)^2 + (y_2-x_2)^2 > 0$ since ${\\bf x} \\not= {\\bf y}, y_1-x_1\\not=0 \\text{, and }y_2-x_2\\not=0\\text{ at the same time}$.   \n",
    "Therefore,  \n",
    "$f(x_1, x_2)> f(y_1,y_2) + \\partial_1 f(y_1, y_2)(x_1-y_1) + \\partial_2f(y_1,y_2)(x_2-y_2)$ for all ${\\bf x} \\not= {\\bf y}\\in X$, so this function is strictly convex."
   ]
  },
  {
   "cell_type": "markdown",
   "metadata": {},
   "source": [
    "### $f(x,y)= x^2$"
   ]
  },
  {
   "cell_type": "markdown",
   "metadata": {},
   "source": [
    "Proof:  \n",
    "$f(x_1, x_2) = x_1^2$  \n",
    "$f(y_1,y_2) = y_1^2$  \n",
    "$\\partial_1 f(y_1, y_2)(x_1-y_1) = 2 y_1(x_1-y_1)$  \n",
    "$\\partial_2 f(y_1,y_2)(x_2-y_2) = 0$  \n",
    "So  \n",
    "$f(y_1,y_2) + \\partial_1 f(y_1, y_2)(x_1-y_1) + \\partial_2f(y_1,y_2)(x_2-y_2)$  \n",
    "$=  y_1^2+2 y_1(x_1-y_1)$  \n",
    "$= y_1^2 +2 y_1x_1-2y_2^2$  \n",
    "$= 2 y_1x_1- y_1^2$  \n",
    "$f(x_1, x_2) - [f(y_1,y_2) + \\partial_1 f(y_1, y_2)(x_1-y_1) + \\partial_2f(y_1,y_2)(x_2-y_2)]$  \n",
    "$= x_1^2 - 2 y_1x_1 + y_1^2$  \n",
    "$= (y_1-x_1)^2 \\geq 0$ since $y_1$ could be equal to $x_1$ as long as $y_2\\not=x_2$.  \n",
    "Therefore,  \n",
    "$f(x_1, x_2)\\geq f(y_1,y_2) + \\partial_1 f(y_1, y_2)(x_1-y_1) + \\partial_2f(y_1,y_2)(x_2-y_2)$ for all ${\\bf x} \\not= {\\bf y}\\in\\mathbb{R^2}$, so this function is convex."
   ]
  },
  {
   "cell_type": "markdown",
   "metadata": {},
   "source": [
    "### $f(x,y)= x^2-y^2$"
   ]
  },
  {
   "cell_type": "markdown",
   "metadata": {},
   "source": [
    "Proof:  \n",
    "As $(x_1, x_2)=(1,-1)$ and $(y_1, y_2)=(1,1)$  \n",
    "$f(x_1, x_2) = x_1^2 - x_2^2 = 0$  \n",
    "$f(y_1,y_2) = y_1^2 - y_2^2 = 0$  \n",
    "$\\partial_1 f(y_1, y_2)(x_1-y_1) = 2 y_1(x_1-y_1)=0$  \n",
    "$\\partial_2f(y_1,y_2)(x_2-y_2) = -2y_2(x_2-y_2)=4$  \n",
    "So  \n",
    "$f(y_1,y_2) + \\partial_1 f(y_1, y_2)(x_1-y_1) + \\partial_2f(y_1,y_2)(x_2-y_2)=4$  \n",
    "$f(x_1, x_2)=0<4=f(y_1,y_2) + \\partial_1 f(y_1, y_2)(x_1-y_1) + \\partial_2f(y_1,y_2)(x_2-y_2)$  \n",
    "Therefore,  \n",
    "$\\exists {\\bf x} \\not= {\\bf y}\\in\\mathbb{R^2} \\text{ s.t. } f(x_1, x_2)< f(y_1,y_2) + \\partial_1 f(y_1, y_2)(x_1-y_1) + \\partial_2f(y_1,y_2)(x_2-y_2)$, so this function is NOT convex."
   ]
  },
  {
   "cell_type": "markdown",
   "metadata": {},
   "source": [
    "### $f(x,y)= -x^2$"
   ]
  },
  {
   "cell_type": "markdown",
   "metadata": {},
   "source": [
    "Proof:  \n",
    "As $(x_1, x_2)=(1,0)$ and $(y_1, y_2)=(-1,0)$  \n",
    "$f(x_1, x_2) = -x_1^2 = -1$  \n",
    "$f(y_1,y_2) = y_1^2 = -1$  \n",
    "$\\partial_1 f(y_1, y_2)(x_1-y_1) = -2 y_1(x_1-y_1)=4$  \n",
    "$\\partial_2f(y_1,y_2)(x_2-y_2) = 0$  \n",
    "So  \n",
    "$f(y_1,y_2) + \\partial_1 f(y_1, y_2)(x_1-y_1) + \\partial_2f(y_1,y_2)(x_2-y_2)=3$  \n",
    "$f(x_1, x_2)=-1<3=f(y_1,y_2) + \\partial_1 f(y_1, y_2)(x_1-y_1) + \\partial_2f(y_1,y_2)(x_2-y_2)$  \n",
    "Therefore,  \n",
    "$\\exists {\\bf x} \\not= {\\bf y}\\in\\mathbb{R^2} \\text{ s.t. } f(x_1, x_2)< f(y_1,y_2) + \\partial_1 f(y_1, y_2)(x_1-y_1) + \\partial_2f(y_1,y_2)(x_2-y_2)$, so this function is NOT convex."
   ]
  },
  {
   "cell_type": "markdown",
   "metadata": {},
   "source": [
    "### $f(x,y)= -x^2-y^2$"
   ]
  },
  {
   "cell_type": "markdown",
   "metadata": {},
   "source": [
    "Proof:  \n",
    "As $(x_1, x_2)=(1,0)$ and $(y_1, y_2)=(-1,0)$  \n",
    "$f(x_1, x_2) = -x_1^2 - x_2^2= -1$  \n",
    "$f(y_1,y_2) = y_1^2- y_2^2 = -1$  \n",
    "$\\partial_1 f(y_1,y_2)(x_1-y_1) = -2 y_1(x_1-y_1)=4$  \n",
    "$\\partial_2 f(y_1,y_2)(x_2-y_2) = -2 y_2(x_2-y_2)=0$  \n",
    "So  \n",
    "$f(y_1,y_2) + \\partial_1 f(y_1, y_2)(x_1-y_1) + \\partial_2f(y_1,y_2)(x_2-y_2)=3$  \n",
    "$f(x_1, x_2)=-1<3=f(y_1,y_2) + \\partial_1 f(y_1, y_2)(x_1-y_1) + \\partial_2f(y_1,y_2)(x_2-y_2)$  \n",
    "Therefore,  \n",
    "$\\exists {\\bf x} \\not= {\\bf y}\\in\\mathbb{R^2} \\text{ s.t. } f(x_1, x_2)< f(y_1,y_2) + \\partial_1 f(y_1, y_2)(x_1-y_1) + \\partial_2f(y_1,y_2)(x_2-y_2)$, so this function is NOT convex."
   ]
  },
  {
   "cell_type": "markdown",
   "metadata": {},
   "source": [
    "## Problem 3\n",
    "\n",
    "$f(x,y)=\\frac{y^2}{\\sqrt{x^2+y^2}}$"
   ]
  },
  {
   "cell_type": "markdown",
   "metadata": {},
   "source": [
    "### Part a\n",
    "\n",
    "Let $x = rcos(\\theta), y=rsin(\\theta)$, then  \n",
    "$$\n",
    "f(x,y) = f(r,\\theta)=\\frac{r^2 sin^2(\\theta)}{\\sqrt{r^2 cos^2(\\theta) + r^2 sin^2(\\theta)}}=\\frac{r^2 sin^2(\\theta)}{\\sqrt{r^2 (cos^2(\\theta) + sin^2(\\theta))}}\n",
    "$$\n",
    "$$\n",
    " = \\frac{r^2 sin^2(\\theta)}{\\sqrt{r^2}} = \\frac{r^2 sin^2(\\theta)}{r} = r sin^2(\\theta)\n",
    "$$\n",
    "\n",
    "Now if we let $r\\rightarrow0$, then  \n",
    "$$\n",
    "\\lim_{(x,y)\\to(0,0)}f(x,y)=\\lim_{r\\to0}f(r,\\theta)=r sin^2(\\theta)=0\n",
    "$$\n",
    "Therefore, $f(x,y)$ is continuous at $(0,0)$."
   ]
  },
  {
   "cell_type": "markdown",
   "metadata": {},
   "source": [
    "### Part b\n",
    "\n",
    "$$\n",
    "g(t) = \\frac{b^2t^2}{\\sqrt{a^2t^2+b^2t^2}}= \\frac{b^2t^2}{t\\sqrt{a^2+b^2}}=\\frac{b^2}{\\sqrt{a^2+b^2}}t\n",
    "$$\n",
    "So $g(t)$ is a just a line with slope $\\frac{b^2}{\\sqrt{a^2+b^2}}$.  \n",
    "Let $x, y\\in\\mathbb{R}$.  \n",
    "Let $k\\in (0,1)$   \n",
    "$g((1-k)x + ky)$  \n",
    "$= \\frac{b^2}{\\sqrt{a^2+b^2}}((1-k)x + ky)$  \n",
    "$= (1-k)\\frac{b^2}{\\sqrt{a^2+b^2}}x + k\\frac{b^2}{\\sqrt{a^2+b^2}}y$  \n",
    "$= (1-k)g(x) + kg(y)$  \n",
    "So, by definition, $g(t)$ is convex."
   ]
  },
  {
   "cell_type": "markdown",
   "metadata": {},
   "source": [
    "### Part c"
   ]
  },
  {
   "cell_type": "code",
   "execution_count": 19,
   "metadata": {
    "scrolled": false
   },
   "outputs": [
    {
     "data": {
      "application/javascript": [
       "\n",
       "with_mathbox(element, function(mathbox) {\n",
       "    \n",
       "    var fcn = function(x, y) {\n",
       "      return (y*y) /Math.sqrt(x*x+y*y);\n",
       "    };\n",
       "    \n",
       "    var view = plotGraph(mathbox, fcn);\n",
       "     \n",
       "})"
      ],
      "text/plain": [
       "<IPython.core.display.Javascript object>"
      ]
     },
     "metadata": {},
     "output_type": "display_data"
    }
   ],
   "source": [
    "%%javascript\n",
    "\n",
    "with_mathbox(element, function(mathbox) {\n",
    "    \n",
    "    var fcn = function(x, y) {\n",
    "      return (y*y) /Math.sqrt(x*x+y*y);\n",
    "    };\n",
    "    \n",
    "    var view = plotGraph(mathbox, fcn);\n",
    "     \n",
    "})"
   ]
  },
  {
   "cell_type": "markdown",
   "metadata": {
    "collapsed": true
   },
   "source": [
    "Proof:  \n",
    "As $(x_1, x_2)=(2,1)$ and $(y_1, y_2)=(-2,1)$  \n",
    "$f(x_1, x_2) = \\frac{1}{\\sqrt{5}}$  \n",
    "$f(y_1, y_2) = \\frac{1}{\\sqrt{5}}$  \n",
    "$\\partial_1 f(y_1,y_2)(x_1-y_1) = (-y_1y_2^2(y_1^2+y_2^2)^{-\\frac{3}{2}})(x_1-y_1)=8*5^{-\\frac{3}{2}}>0$  \n",
    "$\\partial_2 f(y_1,y_2)(x_2-y_2) = 0$ since $x_2=y_2$  \n",
    "So  \n",
    "$f(y_1,y_2) + \\partial_1 f(y_1, y_2)(x_1-y_1) + \\partial_2f(y_1,y_2)(x_2-y_2)=\\frac{1}{\\sqrt{5}}+8*5^{-\\frac{3}{2}}$  \n",
    "$f(x_1, x_2)=\\frac{1}{\\sqrt{5}}<\\frac{1}{\\sqrt{5}}+8*5^{-\\frac{3}{2}}=f(y_1,y_2) + \\partial_1 f(y_1, y_2)(x_1-y_1) + \\partial_2f(y_1,y_2)(x_2-y_2)$  \n",
    "Therefore,  \n",
    "$\\exists {\\bf x} \\not= {\\bf y}\\in\\mathbb{R^2} \\text{ s.t. } f(x_1, x_2)< f(y_1,y_2) + \\partial_1 f(y_1, y_2)(x_1-y_1) + \\partial_2f(y_1,y_2)(x_2-y_2)$, so this function is NOT convex."
   ]
  },
  {
   "cell_type": "markdown",
   "metadata": {
    "collapsed": true
   },
   "source": [
    "## Problem 4\n",
    "\n",
    "$$\n",
    "p(x,y) = f(x^{(0)},y^{(0)}) + \\partial_1 f(x^{(0)},y^{(0)})(x-x^{(0)}) + \\partial_2 f(x^{(0)},y^{(0)})(y-y^{(0)}) + \\frac{1}{2}\\left(\\partial_{1, 1}f(x^{(0)},y^{(0)})(x-x^{(0)})^2 + 2 \\partial_{1, 2}(x^{(0)},y^{(0)})(x-x^{(0)})(y-y^{(0)}) + \\partial_{2, 2}f(x^{(0)},y^{(0)})(y-y^{(0)})^2\\right)\n",
    "$$\n",
    "In this problem,  \n",
    "$$\n",
    "f(x_1,x_2) = -\\text{log}\\left(\\text{det}\\begin{pmatrix}\n",
    "1+x_1^2 & x_1x_2 \\\\ x_1x_2 & 1+x_2^2\n",
    "\\end{pmatrix}\\right)= -\\text{log}\\left((1+x_1^2)(1+x_2^2)-x_1^2 x_2^2\\right)\n",
    "$$  \n",
    "$$\n",
    "\\partial_1 f(x_1,x_2) = \\frac{-2 x_1}{1+x_1^2+x_2^2} \\text{  ,   }\n",
    "\\partial_2 f(x_1,x_2) = \\frac{-2 x_2}{1+x_1^2+x_2^2}\n",
    "$$\n",
    "$$\n",
    "\\partial_{1, 1} f(x_1,x_2) = \\partial_1 \\partial_1 f(x_1,x_2)=\\partial_1 \\frac{-2 x_1}{(1+x_1^2)(1+x_2^2)-x_1^2 x_2^2}=\\frac{2(x_1^2-x_2^2-1)}{(x_1^2+x_2^2+1)^2}\n",
    "$$\n",
    "$$\n",
    "\\partial_{2, 2} f(x_1,x_2) = \\partial_2 \\partial_2 f(x_1,x_2)=\\partial_2 \\frac{-2 x_2}{(1+x_1^2)(1+x_2^2)-x_1^2 x_2^2}=\\frac{2(x_2^2-x_1^2-1)}{(x_2^2+x_1^2+1)^2}\n",
    "$$\n",
    "$$\n",
    "\\partial_{1, 2} f(x_1,x_2) = \\partial_1\\partial_2 f(x_1,x_2)=\\partial_1 \\frac{-2 x_2}{(1+x_1^2)(1+x_2^2)-x_1^2 x_2^2}=\\frac{4x_1x_2}{(x_2^2+x_1^2+1)^2}\n",
    "$$"
   ]
  },
  {
   "cell_type": "markdown",
   "metadata": {
    "collapsed": true
   },
   "source": [
    "$f(1,1)=-\\text{log}3$, $\\partial_1 f(1,1)= -\\frac{2}{3}$, $\\partial_2 f(1,1)= -\\frac{2}{3}$, $\\partial_{1, 1} f(x_1,x_2)=-\\frac{2}{9}$, $\\partial_{2, 2} f(x_1,x_2)=-\\frac{2}{9}$, $\\partial_{1, 2} f(x_1,x_2)=\\frac{4}{9}$  \n",
    "Thus, the second order Taylor approximation to $f$ at $(1,1)$ is\n",
    "$p(x_1,x_2) = -\\text{log}3-\\frac{2}{3}(x_1-1)-\\frac{2}{3}(x_2-1)+\\frac{1}{2}$\n",
    "$\\left( -\\frac{2}{9}(x_1-1)^2+\\frac{8}{9}(x_1-1)(x_2-1)-\\frac{2}{9}(x_2-1)^2 \\right)$  \n",
    "$= -\\text{log}3-\\frac{2}{3}(x_1-1)-\\frac{2}{3}(x_2-1)-\\frac{1}{9}(x_1-1)^2 + \\frac{4}{9}(x_1-1)(x_2-1)-\\frac{1}{9}(x_2-1)^2$  \n",
    "$=-\\text{log}3 - \\frac{1}{9}(x_1^2+x_2^2-4x_1x_2+8x_1+8x_2-14)$"
   ]
  },
  {
   "cell_type": "markdown",
   "metadata": {
    "collapsed": true
   },
   "source": [
    "## Problem 5\n",
    "\n",
    "### Part a\n",
    "\n",
    "if $A,B \\in SPD(2)$, then ${\\bf x}^{T}A{\\bf x}\\geq 0$, and ${\\bf x}^{T}B{\\bf x}\\geq 0$ for all ${\\bf x}\\in\\mathbb{R^2}$  \n",
    "${\\bf x}^{T}(A+B){\\bf x}= {\\bf x}^{T}(A{\\bf x}+B{\\bf x})={\\bf x}^{T}A{\\bf x}+{\\bf x}^{T}B{\\bf x}\\geq 0$ (By the distributive property of matrix-vector multiplication)  \n",
    "Therefore, $A+B \\in SPD(2)$.\n"
   ]
  },
  {
   "cell_type": "markdown",
   "metadata": {
    "collapsed": true
   },
   "source": [
    "### Part b\n",
    "\n",
    "proof: Take $A,B \\in SPD(2)$ and $t\\in[0,1]$,   \n",
    "then ${\\bf x}^{T}A{\\bf x}\\geq 0$, and ${\\bf x}^{T}B{\\bf x}\\geq 0$ for all ${\\bf x}\\in\\mathbb{R^2}$  \n",
    "${\\bf x}^{T}(tA+(1-t)B){\\bf x}= {\\bf x}^{T}(tA{\\bf x}+(1-t)B{\\bf x})={\\bf x}^{T}tA{\\bf x}+{\\bf x}^{T}(1-t)B{\\bf x}=t{\\bf x}^{T}A{\\bf x}+(1-t){\\bf x}^{T}B{\\bf x}$ (By the distributive property of matrix-vector multiplication)  \n",
    "$t, (1-t) \\geq 0$ since $t\\in[0,1]$.  \n",
    "so $t{\\bf x}^{T}A{\\bf x}\\geq 0$ and $(1-t){\\bf x}^{T}B{\\bf x}\\geq 0$  \n",
    "Therefore, ${\\bf x}^{T}(tA+(1-t)B){\\bf x}\\geq 0$, also $tA+(1-t)B\\in SPD(2)$  \n",
    "$SPD(2)$ is a convex subset."
   ]
  },
  {
   "cell_type": "markdown",
   "metadata": {
    "collapsed": true
   },
   "source": [
    "### Part c\n",
    "\n",
    "proof: if $X\\in M_{2,2}$, then $X$ is a 2x2 matrix, and $X^T$ is also a 2x2 matrix. Then by the rule of matrix multiplication, $X^T X$ is also a 2x2 matrix.  \n",
    "Take a ${\\bf v}\\in\\mathbb{R^2}$, then ${\\bf v}^{T}X^T X{\\bf v}= {(X{\\bf v})}^{T} X{\\bf v} = X{\\bf v} \\bullet X{\\bf v} \\geq 0$.  \n",
    "Therefore, $X^T X \\in SPD (2)$."
   ]
  },
  {
   "cell_type": "markdown",
   "metadata": {
    "collapsed": true
   },
   "source": [
    "### Part d\n",
    "\n",
    "proof:  \n",
    "$A$ is positive semidefinite, and $B$ is positive definite.    \n",
    "${\\bf x}^{T}(A+B){\\bf x}= {\\bf x}^{T}(A{\\bf x}+B{\\bf x})={\\bf x}^{T}A{\\bf x}+{\\bf x}^{T}B{\\bf x}$ (By the distributive property of matrix-vector multiplication)  \n",
    "We have ${\\bf x}^{T}A{\\bf x}\\geq 0$, and ${\\bf x}^{T}B{\\bf x}> 0$ for all ${\\bf x}\\not = 0\\in\\mathbb{R^2}$  \n",
    "So ${\\bf x}^{T}(A+B){\\bf x}>0$  \n",
    "Therefore, $A+B$ is positive definite."
   ]
  },
  {
   "cell_type": "markdown",
   "metadata": {
    "collapsed": true
   },
   "source": [
    "### Part e\n",
    "\n",
    "proof:  \n",
    "If $A$ is positive definite, then all eigenvalues of $A$ are positive.\n",
    "So $0$ is not an eigenvalue of $A$, then the determinant of $A$ is not zero, therefore $A^{-1}$ exists."
   ]
  }
 ],
 "metadata": {
  "kernelspec": {
   "display_name": "Python 3",
   "language": "python",
   "name": "python3"
  },
  "language_info": {
   "codemirror_mode": {
    "name": "ipython",
    "version": 3
   },
   "file_extension": ".py",
   "mimetype": "text/x-python",
   "name": "python",
   "nbconvert_exporter": "python",
   "pygments_lexer": "ipython3",
   "version": "3.6.1"
  }
 },
 "nbformat": 4,
 "nbformat_minor": 2
}
