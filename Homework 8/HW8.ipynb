{
 "cells": [
  {
   "cell_type": "markdown",
   "metadata": {},
   "source": [
    "# ANLY 561 HW\n",
    "\n",
    "Name:Yuqi Wang   \n",
    "NetID:yw545"
   ]
  },
  {
   "cell_type": "markdown",
   "metadata": {},
   "source": [
    "## Problem 1\n",
    "\n",
    "Observe that this program  \n",
    "$$\n",
    "\\min_{x\\in\\mathbb{R^n}}||{\\bf y}-{\\bf x}||_2^2 \\text{ subject to } {\\bf v}^T{\\bf x} - b =0\n",
    "$$  \n",
    "Now we let $f({\\bf x})=||{\\bf y}-{\\bf x}||_2^2$, $g({\\bf x})={\\bf v}^T{\\bf x} - b =0$. Then we will have  \n",
    "$$\n",
    "\\nabla g({\\bf x})={\\bf v}\\neq {\\bf 0} \\text{ for all } {\\bf x}\\in\\mathbb{R^n}\n",
    "$$  \n",
    "Thus, there exist a $\\lambda\\in\\mathbb{R}$ such that $\\nabla f({\\bf x}^\\ast)=\\lambda\\nabla g({\\bf x}^\\ast)$ where ${\\bf x}^\\ast$ is a minimizer of $f$ subject to the constraint $g$.  \n",
    "Then, we have  \n",
    "$$\n",
    "\\nabla f({\\bf x})=2({\\bf x}-{\\bf y}), \\nabla g({\\bf x})={\\bf v} \\implies 2({\\bf x}-{\\bf y}) = \\lambda{\\bf v}\n",
    "$$  \n",
    "Solving ${\\bf x}$,  \n",
    "$$\n",
    "{\\bf x} = \\frac{\\lambda}{2}{\\bf v}+{\\bf y}\n",
    "$$  \n",
    "Plug this ${\\bf x}$ into the constraint $g({\\bf x})=0$ in order to get $\\lambda$,  \n",
    "$$\n",
    "{\\bf v}^T(\\frac{\\lambda}{2}{\\bf v}+{\\bf y}) - b =0 \\\\\n",
    "\\implies \\frac{\\lambda}{2}{\\bf v}^T{\\bf v}+{\\bf v}^T{\\bf y} = b \\\\\n",
    "\\implies \\frac{\\lambda}{2}||{\\bf v}||_2^2=b-{\\bf v}^T{\\bf y}\\\\\n",
    "\\implies \\lambda=\\frac{2(b-{\\bf v}^T{\\bf y})}{||{\\bf v}||_2^2}\n",
    "$$  \n",
    "Plug this $\\lambda$ back into the expression of ${\\bf x}$, then  \n",
    "$$\n",
    "{\\bf x} = \\frac{\\frac{2(b-{\\bf v}^T{\\bf y})}{||{\\bf v}||_2^2}}{2}{\\bf v}+{\\bf y} \\\\\n",
    "\\implies {\\bf x} = {\\frac{(b-{\\bf v}^T{\\bf y})}{||{\\bf v}||_2^2}}{\\bf v}+{\\bf y} \\\\\n",
    "\\implies {\\bf x} = {\\frac{(b{\\bf v}-{\\bf v}^T{\\bf y}{\\bf v})}{||{\\bf v}||_2^2}}+{\\bf y}\n",
    "$$"
   ]
  },
  {
   "cell_type": "markdown",
   "metadata": {},
   "source": [
    "## Problem 2"
   ]
  },
  {
   "cell_type": "code",
   "execution_count": 15,
   "metadata": {},
   "outputs": [
    {
     "name": "stdout",
     "output_type": "stream",
     "text": [
      "          X1        X2    Y\n",
      "0  -1.371631 -2.258341 -1.0\n",
      "1  -1.488895 -2.260009 -1.0\n",
      "2  -1.866378 -1.776294 -1.0\n",
      "3  -1.805355 -1.633059 -1.0\n",
      "4  -2.152562 -2.563269 -1.0\n",
      "5  -2.342608 -1.724407 -1.0\n",
      "6  -2.108364 -2.852225 -1.0\n",
      "7  -2.714519 -1.758886 -1.0\n",
      "8  -1.704407 -2.094463 -1.0\n",
      "9  -1.432416 -1.300421 -1.0\n",
      "10  1.953568  2.660541  1.0\n",
      "11  1.365924  1.502093  1.0\n",
      "12  2.031358  1.443164  1.0\n",
      "13  2.323736  1.616481  1.0\n",
      "14  1.379934  1.908661  1.0\n",
      "15  1.558145  2.338764  1.0\n",
      "16  1.927289  1.635150  1.0\n",
      "17  2.248332  1.968463  1.0\n",
      "18  2.213318  2.210394  1.0\n",
      "19  1.863444  2.297711  1.0\n"
     ]
    }
   ],
   "source": [
    "import numpy as np\n",
    "import numpy.random as rd\n",
    "import matplotlib.pyplot as plt\n",
    "import pandas as pd\n",
    "\n",
    "def random_circle(N):\n",
    "    x = np.reshape(rd.randn(N*2), (N, 2))\n",
    "    for i in range(N):\n",
    "        x[i,:] = x[i,:]/np.sqrt(np.sum(x[i,:]**2))\n",
    "    return x\n",
    "\n",
    "def random_radius(N, R=1):\n",
    "    r = rd.rand(N)\n",
    "    return R*np.sqrt(r) # This ensures uniform sampling from the disc\n",
    "    \n",
    "\n",
    "def random_disc(N, mu=[0,0], R=1):\n",
    "    x = random_circle(N)\n",
    "    r = random_radius(N, R=R)\n",
    "    for i in range(N):\n",
    "        x[i, :] = r[i] * x[i, :] + mu\n",
    "    return x\n",
    "\n",
    "N = 10\n",
    "\n",
    "X = np.zeros([20,2])\n",
    "X[:10,:] = random_disc(N, mu=[-2, -2])\n",
    "X[10:,:]  = random_disc(N, mu=[2, 2])\n",
    "Y = np.zeros(20)\n",
    "Y[:10] = -np.ones(10)\n",
    "Y[10:] = np.ones(10)\n",
    "mydict = {'X1': X[:,0], 'X2': X[:,1],'Y': Y}\n",
    "data = pd.DataFrame(mydict)\n",
    "\n",
    "print(data)"
   ]
  },
  {
   "cell_type": "markdown",
   "metadata": {},
   "source": [
    "### Part (a)\n",
    "Original program  \n",
    "$$\n",
    "f({\\bf v}, b) = \\frac{1}{2}||{\\bf v}||^2 \\\\\n",
    "h_i({\\bf v}, b) = 1-y^{(i)}({\\bf v}^T {\\bf x}^{(i)}-b) \\\\\n",
    "$$  \n",
    "In Phase I,  \n",
    "$$\n",
    "\\tilde{f}({\\bf v}, b, z) = z \\\\\n",
    "\\tilde{h_i}({\\bf v}, b, z)=1-y^{(i)}({\\bf v}^T {\\bf x}^{(i)}-b)-z\n",
    "$$\n"
   ]
  },
  {
   "cell_type": "markdown",
   "metadata": {},
   "source": [
    "We have ${\\bf v}^{(0)}=(-20,20)$, $b^{(0)}=10$.  \n",
    "In order to determine $z^{(0)}$, we have  \n",
    "$$\n",
    "z^{(0)}=\\max(h_1({\\bf v}^{(0)}, b^{(0)}),\\ldots,h_{20}({\\bf v}^{(0)},b^{(0)}))+1\n",
    "$$"
   ]
  },
  {
   "cell_type": "code",
   "execution_count": 16,
   "metadata": {},
   "outputs": [
    {
     "name": "stdout",
     "output_type": "stream",
     "text": [
      "26.1450869905\n"
     ]
    }
   ],
   "source": [
    "# input are x(i) and y(i)\n",
    "# output is a function h(i)\n",
    "def h_i(xi,yi):\n",
    "    def hi(v):\n",
    "        return 1-yi*(v[0]*xi[0]+v[1]*xi[1]-v[2])\n",
    "    return hi\n",
    "\n",
    "# find z(0)\n",
    "h_v0 = list()\n",
    "for i in range(20):\n",
    "    hi = h_i(X[i,:],Y[i])\n",
    "    h_v0.append(hi(np.array([-20, 20, 10])))\n",
    "    \n",
    "z0 = max(h_v0)+1\n",
    "print(z0)"
   ]
  },
  {
   "cell_type": "markdown",
   "metadata": {},
   "source": [
    "**Phase I**"
   ]
  },
  {
   "cell_type": "code",
   "execution_count": 23,
   "metadata": {},
   "outputs": [
    {
     "name": "stdout",
     "output_type": "stream",
     "text": [
      "[  5.86465212  45.01203662   7.0367115   -0.52575948]\n",
      "so v^(0) = [  5.86465212  45.01203662] , b^(0) = 7.03671150107\n"
     ]
    }
   ],
   "source": [
    "import numpy as np\n",
    "import numpy.random as rd\n",
    "import matplotlib.pyplot as plt\n",
    "import pandas as pd\n",
    "\n",
    "def backtracking(x0, dx, f, df0, alpha=0.2, beta=0.8, verbose=False):\n",
    "    '''\n",
    "    Backtracking for general functions with illustrations\n",
    "    :param x0: Previous point from backtracking, or initial guess\n",
    "    :param dx: Incremental factor for updating x0\n",
    "    :param f: Objective function\n",
    "    :param df0: Gradient of f at x0\n",
    "    :param alpha: Sloping factor of stopping criterion\n",
    "    :param beta: \"Agressiveness\" parameter for backtracking steps\n",
    "    :param verbose: Boolean for providing plots and data\n",
    "    :return: x1, the next iterate in backtracking\n",
    "    '''\n",
    "\n",
    "    # Note that the definition below requires that dx and df0 have the same shape\n",
    "    delta = alpha * np.sum(dx * df0) # A general, but memory intensive inner product\n",
    "    \n",
    "    t = 1 # Initialize t=beta^0\n",
    "    f0 = f(x0) # Evaluate for future use\n",
    "    x = x0 + dx # Initialize x_{0, inner}\n",
    "    fx = f(x)\n",
    "    \n",
    "    if verbose:\n",
    "        n=0\n",
    "        xs = [x]\n",
    "        fs = [fx]\n",
    "        ts = [1] * 3\n",
    "    \n",
    "    while (not np.isfinite(fx)) or f0 + delta * t < fx:\n",
    "        t = beta * t\n",
    "        x = x0 + t * dx\n",
    "        fx = f(x)\n",
    "    ###################################### \n",
    "    \n",
    "        if verbose:\n",
    "            n += 1\n",
    "            xs.append(x)\n",
    "            fs.append(fx)\n",
    "            ts.append(t)\n",
    "            ts.pop(0)\n",
    "            \n",
    "    if verbose:\n",
    "        # Display the function along the line search direction as a function of t\n",
    "        s = np.linspace(-0.1*ts[-1], 1.1*ts[0], 100)\n",
    "        xi = [0, 1.1*ts[0]]\n",
    "        fxi = [f0, f0 + 1.1*ts[0]*delta]   \n",
    "        y = np.zeros(len(s))\n",
    "        \n",
    "        for i in range(len(s)):\n",
    "            y[i] = f(x0 + s[i]*dx) # Slow for vectorized functions\n",
    "\n",
    "        plt.figure('Backtracking illustration')\n",
    "        arm, =plt.plot(xi, fxi, '--', label='Armijo Criterion')\n",
    "        fcn, =plt.plot(s, y, label='Objective Function')\n",
    "        plt.plot([s[0], s[-1]], [0, 0], 'k--')\n",
    "        pts =plt.scatter(ts, [0 for p in ts], label='Backtracking points for n=%d, %d, %d' % (n, n+1, n+2))\n",
    "        plt.scatter(ts, [f(x0 + q*dx) for q in ts] , label='Backtracking values for n=%d, %d, %d' % (n, n+1, n+2))\n",
    "        init =plt.scatter([0], [f0], color='black', label='Initial point')\n",
    "        plt.xlabel('$t$')\n",
    "        plt.ylabel('$f(x^{(k)}+t\\Delta x^{(k+1)})$')\n",
    "        plt.legend(handles=[arm, fcn, pts, init])\n",
    "        plt.show()\n",
    "        \n",
    "        return x, xs, fs\n",
    "    \n",
    "    else:\n",
    "        return x\n",
    "\n",
    "\n",
    "def tilde_hi(Xi,Yi):\n",
    "    def hi(v):\n",
    "        return 1-Yi*(v[0]*Xi[0]+v[1]*Xi[1]-v[2])-v[3]\n",
    "    return hi\n",
    "\n",
    "def tilde_dhi(Xi,Yi):\n",
    "    def dhi(v):\n",
    "        return np.array([-Yi*Xi[0], -Yi*Xi[1], Yi, -1])\n",
    "    return dhi\n",
    "\n",
    "\n",
    "# Phase I\n",
    "\n",
    "fun = lambda v: v[3]\n",
    "dfun = lambda v: np.array([0,0,0,1])\n",
    "\n",
    "tilde_h = list()\n",
    "tilde_dh = list()\n",
    "\n",
    "for i in range(20):\n",
    "    tilde_h.append(tilde_hi(X[i,:],Y[i]))\n",
    "    tilde_dh.append(tilde_dhi(X[i,:],Y[i]))\n",
    "\n",
    "def log_tilde_h_list(tilde_h_list):\n",
    "    def log_tilde_h(v):\n",
    "        result =0\n",
    "        for i in range(20):\n",
    "            result += np.log(-tilde_h_list[i](v))\n",
    "        return result\n",
    "    return log_tilde_h\n",
    "\n",
    "def dlog_tilde_dh_list(tilde_h_list,tilde_dh_list):\n",
    "    def dlog_tilde_dh(v):\n",
    "        result =0\n",
    "        for i in range(20):\n",
    "            result += tilde_dh_list[i](v)/tilde_h_list[i](v)\n",
    "        return result\n",
    "    return dlog_tilde_dh\n",
    "\n",
    "lb1 = lambda v: fun(v) - (log_tilde_h_list(tilde_h)(v))\n",
    "dlb1 = lambda v: dfun(v) - (dlog_tilde_dh_list(tilde_h,tilde_dh)(v))\n",
    "\n",
    "\n",
    "v0 = np.array([-20, 20, 10, z0])\n",
    "i=1\n",
    "while v0[3] >= 0:\n",
    "    x = backtracking(v0, -dlb1(v0), lb1, dlb1(v0))\n",
    "    v0 = x\n",
    "    i += 1\n",
    "\n",
    "print(v0)\n",
    "print('So v^(0) =',v0[:2],', b^(0) =', v0[2])"
   ]
  },
  {
   "cell_type": "markdown",
   "metadata": {},
   "source": [
    "### Part (b) \n",
    "\n",
    "**Phase II**"
   ]
  },
  {
   "cell_type": "code",
   "execution_count": 24,
   "metadata": {},
   "outputs": [
    {
     "name": "stdout",
     "output_type": "stream",
     "text": [
      "\n",
      "The process of 3 centering steps:\n",
      "v:\n",
      "[array([  5.86465212,  45.01203662,   7.0367115 ]),\n",
      " array([  3.3165397 ,  22.89722371,  -4.18577739]),\n",
      " array([  2.38362991,  12.18840074,   1.1990782 ]),\n",
      " array([ 2.36128349,  2.42150559, -2.05818651])]\n"
     ]
    },
    {
     "name": "stderr",
     "output_type": "stream",
     "text": [
      "C:\\Users\\45336\\Anaconda3\\lib\\site-packages\\ipykernel_launcher.py:40: RuntimeWarning: invalid value encountered in log\n"
     ]
    }
   ],
   "source": [
    "from pprint import pprint\n",
    "# Phase II\n",
    "\n",
    "'''\n",
    "Use 3 centering steps, \n",
    "M = 10, and \n",
    "5 iterations in the outer loop with \n",
    "2 inner loop iterations each. For each backtracking step, \n",
    "use Newton search directions, \n",
    "\\alpha = 0.1, and \n",
    "\\beta = 0.5.\n",
    "'''\n",
    "        \n",
    "def _hi(Xi,Yi):\n",
    "    def hi(v):\n",
    "        return 1-Yi*(v[0]*Xi[0]+v[1]*Xi[1]-v[2])\n",
    "    return hi\n",
    "\n",
    "def _dhi(Xi,Yi):\n",
    "    def dhi(v):\n",
    "        return np.array([-Yi*Xi[0], -Yi*Xi[1], Yi])\n",
    "    return dhi\n",
    "\n",
    "\n",
    "fun = lambda v: 0.5*(v[0]**2+v[1]**2)\n",
    "dfun = lambda v: np.array([v[0],v[1],0])\n",
    "d2fun = lambda v: np.array([[1,0,0],[0,1,0],[0,0,0]])\n",
    "\n",
    "_h = list()\n",
    "_dh = list()\n",
    "\n",
    "for i in range(20):\n",
    "    _h.append(_hi(X[i,:],Y[i]))\n",
    "    _dh.append(_dhi(X[i,:],Y[i]))\n",
    "\n",
    "def log_h_list(_h_list):\n",
    "    def log_h(v):\n",
    "        result =0\n",
    "        for i in range(20):\n",
    "            result += np.log(-_h_list[i](v))\n",
    "        return result\n",
    "    return log_h\n",
    "\n",
    "\n",
    "def dlog_dh_list(_h_list,_dh_list):\n",
    "    def dlog_dh(v):\n",
    "        result = 0\n",
    "        for i in range(20):\n",
    "            result += _dh_list[i](v)/_h_list[i](v)\n",
    "        return result\n",
    "    return dlog_dh\n",
    "\n",
    "def d2log_dh_list(_h_list,_dh_list):\n",
    "    def d2log_dh(v):\n",
    "        result = np.zeros([3,3])\n",
    "        for i in range(20):\n",
    "            result[0,:] += (_dh_list[i](v)/_h_list[i](v)**2)*(-_dh_list[i](v)[0])\n",
    "            result[1,:] += (_dh_list[i](v)/_h_list[i](v)**2)*(-_dh_list[i](v)[1])\n",
    "            result[2,:] += (_dh_list[i](v)/_h_list[i](v)**2)*(-_dh_list[i](v)[2])\n",
    "        return result\n",
    "    return d2log_dh\n",
    "\n",
    "\n",
    "lb1 = lambda v: fun(v) - (log_h_list(_h)(v))\n",
    "dlb1 = lambda v: dfun(v) - (dlog_dh_list(_h,_dh)(v))\n",
    "d2lb1 = lambda v: d2fun(v) - (d2log_dh_list(_h,_dh)(v))\n",
    "\n",
    "alpha = 0.1\n",
    "beta = 0.5\n",
    "\n",
    "# 3 centering steps\n",
    "v_nm_btlb_center = [v0[:3]]\n",
    "\n",
    "v = v0[:3]\n",
    "for i in range(3):\n",
    "    v = backtracking(v, - np.linalg.solve(d2lb1(v), dlb1(v)), lb1, dlb1(v), alpha=alpha, beta=beta)\n",
    "    v_nm_btlb_center.append(v)\n",
    "    \n",
    "# The process of 3 centering steps\n",
    "print('\\nThe process of 3 centering steps:\\nv:')\n",
    "pprint(v_nm_btlb_center)\n"
   ]
  },
  {
   "cell_type": "code",
   "execution_count": 47,
   "metadata": {},
   "outputs": [
    {
     "name": "stdout",
     "output_type": "stream",
     "text": [
      "\n",
      "The process of 5 outer loops with 2 inner loops: \n",
      "v:\n",
      "[array([ 2.36128349,  2.42150559, -2.05818651]),\n",
      " array([ 1.55995985,  1.60824693,  0.24391695]),\n",
      " array([ 1.03321829,  1.08118001, -0.23871204]),\n",
      " array([ 0.64054145,  0.67010305,  0.1079612 ]),\n",
      " array([ 0.52421354,  0.54786324, -0.02007627]),\n",
      " array([ 0.41811034,  0.4368175 ,  0.007853  ]),\n",
      " array([ 0.36088282,  0.37629055,  0.01790334]),\n",
      " array([ 0.3550585 ,  0.37000724,  0.02499225]),\n",
      " array([ 0.35080077,  0.36487887,  0.02540899]),\n",
      " array([ 0.35042099,  0.3640765 ,  0.02490371]),\n",
      " array([ 0.35112429,  0.36314425,  0.02499911])]\n",
      "[ 0.35112429  0.36314425  0.02499911]\n"
     ]
    },
    {
     "name": "stderr",
     "output_type": "stream",
     "text": [
      "C:\\Users\\45336\\Anaconda3\\lib\\site-packages\\ipykernel_launcher.py:40: RuntimeWarning: invalid value encountered in log\n"
     ]
    }
   ],
   "source": [
    "t = 1\n",
    "M = 10\n",
    "\n",
    "v_nm_btlb = [v_nm_btlb_center[-1]]\n",
    "v = v_nm_btlb_center[-1]\n",
    "for i in range(5):\n",
    "    \n",
    "    t = t/M\n",
    "    lb = lambda v: fun(v) - t*(log_h_list(_h)(v))\n",
    "    dlb = lambda v: dfun(v) - t*(dlog_dh_list(_h,_dh)(v))\n",
    "    d2lb = lambda v: d2fun(v) - t*(d2log_dh_list(_h,_dh)(v))\n",
    "    \n",
    "    for j in range(2):\n",
    "        v = backtracking(v, - np.linalg.solve(d2lb(v), dlb(v)), lb, dlb(v), alpha=alpha, beta=beta)\n",
    "        v_nm_btlb.append(v)\n",
    "\n",
    "# The process of 5 outer loops with 2 inner loops\n",
    "print('\\nThe process of 5 outer loops with 2 inner loops: \\nv:')\n",
    "pprint(v_nm_btlb)\n",
    "vb = v"
   ]
  },
  {
   "cell_type": "markdown",
   "metadata": {},
   "source": [
    "### Part (c) \n",
    "\n",
    "primal-dual algorithm："
   ]
  },
  {
   "cell_type": "code",
   "execution_count": 49,
   "metadata": {},
   "outputs": [
    {
     "name": "stdout",
     "output_type": "stream",
     "text": [
      "0.0908463959054\n",
      "454.508244415\n"
     ]
    },
    {
     "data": {
      "image/png": "[encoded data removed]",
      "text/plain": [
       "<matplotlib.figure.Figure at 0x2d1f7e9e748>"
      ]
     },
     "metadata": {},
     "output_type": "display_data"
    },
    {
     "name": "stdout",
     "output_type": "stream",
     "text": [
      "0.30900466254\n",
      "132.702591102\n"
     ]
    },
    {
     "data": {
      "image/png": "[encoded data removed]",
      "text/plain": [
       "<matplotlib.figure.Figure at 0x2d1f92079b0>"
      ]
     },
     "metadata": {},
     "output_type": "display_data"
    },
    {
     "name": "stdout",
     "output_type": "stream",
     "text": [
      "1.02157810925\n",
      "39.8972503042\n"
     ]
    },
    {
     "data": {
      "image/png": "[encoded data removed]",
      "text/plain": [
       "<matplotlib.figure.Figure at 0x2d1f7f22198>"
      ]
     },
     "metadata": {},
     "output_type": "display_data"
    },
    {
     "name": "stdout",
     "output_type": "stream",
     "text": [
      "3.37774561004\n",
      "12.0174982095\n"
     ]
    },
    {
     "data": {
      "image/png": "[encoded data removed]",
      "text/plain": [
       "<matplotlib.figure.Figure at 0x2d1f7e6d860>"
      ]
     },
     "metadata": {},
     "output_type": "display_data"
    },
    {
     "name": "stdout",
     "output_type": "stream",
     "text": [
      "11.1718774585\n",
      "3.62350209865\n"
     ]
    },
    {
     "data": {
      "image/png": "[encoded data removed]",
      "text/plain": [
       "<matplotlib.figure.Figure at 0x2d1f7d00e80>"
      ]
     },
     "metadata": {},
     "output_type": "display_data"
    },
    {
     "name": "stdout",
     "output_type": "stream",
     "text": [
      "36.9897254639\n",
      "1.09244168735\n"
     ]
    },
    {
     "data": {
      "image/png": "[encoded data removed]",
      "text/plain": [
       "<matplotlib.figure.Figure at 0x2d1f9207a90>"
      ]
     },
     "metadata": {},
     "output_type": "display_data"
    },
    {
     "name": "stdout",
     "output_type": "stream",
     "text": [
      "122.896238004\n",
      "0.328465186861\n"
     ]
    },
    {
     "data": {
      "image/png": "[encoded data removed]",
      "text/plain": [
       "<matplotlib.figure.Figure at 0x2d1f7d61b00>"
      ]
     },
     "metadata": {},
     "output_type": "display_data"
    },
    {
     "name": "stdout",
     "output_type": "stream",
     "text": [
      "413.164743569\n",
      "0.0977031352716\n"
     ]
    },
    {
     "data": {
      "image/png": "[encoded data removed]",
      "text/plain": [
       "<matplotlib.figure.Figure at 0x2d1f80b00f0>"
      ]
     },
     "metadata": {},
     "output_type": "display_data"
    },
    {
     "name": "stdout",
     "output_type": "stream",
     "text": [
      "1449.90832415\n",
      "0.0280420331327\n"
     ]
    },
    {
     "data": {
      "image/png": "[encoded data removed]",
      "text/plain": [
       "<matplotlib.figure.Figure at 0x2d1f90e14a8>"
      ]
     },
     "metadata": {},
     "output_type": "display_data"
    },
    {
     "name": "stdout",
     "output_type": "stream",
     "text": [
      "2486.02633023\n",
      "0.0165309849095\n"
     ]
    },
    {
     "data": {
      "image/png": "[encoded data removed]",
      "text/plain": [
       "<matplotlib.figure.Figure at 0x2d1f7fbcd30>"
      ]
     },
     "metadata": {},
     "output_type": "display_data"
    },
    {
     "name": "stdout",
     "output_type": "stream",
     "text": [
      "Numerical solution after 10 steps:\n",
      "x = [ 0.36327919  0.37748466  0.01631424]\n",
      "mu = [ 0.00914763  0.00832481  0.00885774  0.0106077   0.00482368  0.00646662\n",
      "  0.00441104  0.00512369  0.00796104  0.04017213  0.00519459  0.03223388\n",
      "  0.0109274   0.00728878  0.01393938  0.0078604   0.01009814  0.00620649\n",
      "  0.00559006  0.00655698]\n",
      "[ 0.36327919  0.37748466  0.01631424]\n"
     ]
    }
   ],
   "source": [
    "############################\n",
    "# Prime dual\n",
    "############################\n",
    "\n",
    "f = lambda v: 0.5*(v[0]**2+v[1]**2)\n",
    "df = lambda v: np.array([v[0],v[1],0])\n",
    "d2f = lambda v: np.array([[1,0,0],[0,1,0],[0,0,0]])\n",
    "\n",
    "def l2(x):\n",
    "    return np.sqrt(np.sum(x**2))\n",
    "\n",
    "\n",
    "_h = list()\n",
    "_dh = list()\n",
    "\n",
    "for i in range(20):\n",
    "    _h.append(_hi(X[i,:],YY[i,0]))\n",
    "    _dh.append(_dhi(X[i,:],YY[i,0]))\n",
    "\n",
    "\n",
    "def produce_h(h_list):\n",
    "    def h(x):\n",
    "        result = np.zeros(len(h_list))\n",
    "        for i in range(len(h_list)):\n",
    "            result[i]=h_list[i](x)\n",
    "        return result\n",
    "    return h\n",
    "\n",
    "def produce_dh(dh_list):\n",
    "    def dh(x):\n",
    "        result = np.zeros([len(dh_list),3])\n",
    "        for i in range(len(dh_list)):\n",
    "            result[i:]=dh_list[i](x)\n",
    "        return result\n",
    "    return dh\n",
    "\n",
    "h = lambda x: produce_h(_h)(x)\n",
    "dh = lambda x: produce_dh(_dh)(x)\n",
    "d2h = lambda x: np.zeros([20,3])\n",
    "\n",
    "def diagnostic(d, x, mu, t, dx_mu):\n",
    "    n = 100\n",
    "    s = np.linspace(0, 1.0, n)\n",
    "    vals = np.zeros(n)\n",
    "    for i in range(n):\n",
    "        vals[i] = l2(phi(x + s[i]*dx_mu[:d], mu + s[i]*dx_mu[d:], t))\n",
    "        \n",
    "    plt.plot(s, vals)\n",
    "    plt.show()\n",
    "    \n",
    "\n",
    "num_iter = 10\n",
    "d = 3 # dimension of the program\n",
    "m = 20 # number of inequality constraints\n",
    "x0 = np.array([ 10.95975037,  45.39047379,   8.08724208])\n",
    "mu0 = np.ones(20) # initial value for mu\n",
    "\n",
    "nu = 10 # Interior point scaling parameter\n",
    "\n",
    "phi = lambda x, mu, t:  np.concatenate((df(x)+ sum([mu[i]*dh(x)[i] for i in range(20)]),-np.array([mu[i]*h(x)[i] for i in range(20)])-1/t))\n",
    "dphi = lambda x, mu: np.reshape(np.block([[d2f(x), np.transpose(dh(x))], [-np.diag(mu)@dh(x), -np.diag(h(x))]]), (d+m, d+m)) \n",
    "\n",
    "# Backtracking parameters\n",
    "alpha = 0.1\n",
    "beta = 0.5\n",
    "\n",
    "eta = lambda x, mu: sum(-h(x)*mu) # Computation of surrogate duality gap\n",
    "\n",
    "x = x0\n",
    "mu = mu0\n",
    "for i in range(num_iter):\n",
    "    t = nu * m / eta(x, mu)\n",
    "    phi0 = phi(x,mu,t)\n",
    "    \n",
    "    norm_phi0 = l2(phi0)\n",
    "    print(t)\n",
    "    print(norm_phi0)\n",
    "    \n",
    "    # Compute the Newton search direction\n",
    "\n",
    "    dx_mu = -np.linalg.solve(dphi(x, mu), phi0)\n",
    "    \n",
    "    # Initialize backtracking\n",
    "    s = 1 # using s for backtracking parameter since t is taken\n",
    "    \n",
    "    yx = x + s*dx_mu[:d]\n",
    "    ymu = mu + s*dx_mu[d:]\n",
    "    hyx = h(yx)\n",
    "    phiy = phi(yx, ymu, t)\n",
    "    norm_phiy = l2(phiy)\n",
    "    \n",
    "    diagnostic(d, x, mu, t, dx_mu)\n",
    "\n",
    "    \n",
    "    n = 0\n",
    "    \n",
    "    while 0 < ymu[ymu<=0].size or 0 < hyx[0<=hyx].size or (1-alpha*s)*norm_phi0 < norm_phiy:\n",
    "        s = beta * s\n",
    "        yx = x + s*dx_mu[:d]\n",
    "        ymu = mu + s*dx_mu[d:]\n",
    "        hyx = h(yx)\n",
    "        phiy = phi(yx, ymu, t)\n",
    "        norm_phiy = l2(phiy)\n",
    "        n += 1\n",
    "        \n",
    "    x = yx\n",
    "    mu = ymu\n",
    "\n",
    "\n",
    "print('Numerical solution after %d steps:' % num_iter)\n",
    "print('x =',x)\n",
    "print('mu =',mu)\n",
    "vc = x"
   ]
  },
  {
   "cell_type": "markdown",
   "metadata": {
    "collapsed": true
   },
   "source": [
    "### Part (d)\n",
    "\n"
   ]
  },
  {
   "cell_type": "code",
   "execution_count": 53,
   "metadata": {},
   "outputs": [
    {
     "name": "stdout",
     "output_type": "stream",
     "text": [
      "[  5.86465212  45.01203662   7.0367115 ]\n",
      "[ 0.35112429  0.36314425  0.02499911]\n",
      "[ 0.36327919  0.37748466  0.01631424]\n"
     ]
    }
   ],
   "source": [
    "print(v0[:3])\n",
    "print(vb)\n",
    "print(vc)"
   ]
  },
  {
   "cell_type": "code",
   "execution_count": 67,
   "metadata": {},
   "outputs": [
    {
     "data": {
      "image/png": "[encoded data removed]",
      "text/plain": [
       "<matplotlib.figure.Figure at 0x2d1f8091400>"
      ]
     },
     "metadata": {},
     "output_type": "display_data"
    }
   ],
   "source": [
    "# For all parts\n",
    "\n",
    "V0 = v0[:2]\n",
    "b0 = v0[2]\n",
    "\n",
    "Vb = vb[:2]\n",
    "bb = vb[2]\n",
    "\n",
    "Vc = vc[:2]\n",
    "bc = vc[2]\n",
    "\n",
    "\n",
    "plt.scatter(X[:10,0], X[:10,1])\n",
    "plt.scatter(X[10:,0], X[10:,1])\n",
    "x = np.linspace(-4, 4)\n",
    "plt.plot(x, (b0-x*V0[0])/V0[1], linewidth=2)\n",
    "plt.plot(x, (bb-x*Vb[0])/Vb[1], linewidth=1)\n",
    "plt.plot(x, (bc-x*Vc[0])/Vc[1], linewidth=1)\n",
    "\n",
    "plt.xlabel('x')\n",
    "plt.ylabel('y')\n",
    "plt.axis('equal')\n",
    "plt.show()"
   ]
  },
  {
   "cell_type": "code",
   "execution_count": 68,
   "metadata": {},
   "outputs": [
    {
     "data": {
      "image/png": "[encoded data removed]",
      "text/plain": [
       "<matplotlib.figure.Figure at 0x2d1f7e03fd0>"
      ]
     },
     "metadata": {},
     "output_type": "display_data"
    }
   ],
   "source": [
    "# From part(a)\n",
    "\n",
    "V = v0[:2]\n",
    "b = v0[2]\n",
    "\n",
    "\n",
    "plt.scatter(X[:10,0], X[:10,1])\n",
    "plt.scatter(X[10:,0], X[10:,1])\n",
    "x = np.linspace(-4, 4)\n",
    "plt.plot(x, (b-x*V[0])/V[1], linewidth=2)\n",
    "plt.xlabel('x')\n",
    "plt.ylabel('y')\n",
    "plt.axis('equal')\n",
    "plt.show()"
   ]
  },
  {
   "cell_type": "code",
   "execution_count": 69,
   "metadata": {},
   "outputs": [
    {
     "data": {
      "image/png": "[encoded data removed]",
      "text/plain": [
       "<matplotlib.figure.Figure at 0x2d1f910aa20>"
      ]
     },
     "metadata": {},
     "output_type": "display_data"
    }
   ],
   "source": [
    "# From part(b)\n",
    "\n",
    "V = vb[:2]\n",
    "b = vb[2]\n",
    "\n",
    "\n",
    "plt.scatter(X[:10,0], X[:10,1])\n",
    "plt.scatter(X[10:,0], X[10:,1])\n",
    "x = np.linspace(-4, 4)\n",
    "plt.plot(x, (b-x*V[0])/V[1], linewidth=2)\n",
    "plt.xlabel('x')\n",
    "plt.ylabel('y')\n",
    "plt.axis('equal')\n",
    "plt.show()"
   ]
  },
  {
   "cell_type": "code",
   "execution_count": 70,
   "metadata": {},
   "outputs": [
    {
     "data": {
      "image/png": "[encoded data removed]",
      "text/plain": [
       "<matplotlib.figure.Figure at 0x2d1f7e89550>"
      ]
     },
     "metadata": {},
     "output_type": "display_data"
    }
   ],
   "source": [
    "# From part(c)\n",
    "\n",
    "V = vc[:2]\n",
    "b = vc[2]\n",
    "\n",
    "\n",
    "plt.scatter(X[:10,0], X[:10,1])\n",
    "plt.scatter(X[10:,0], X[10:,1])\n",
    "x = np.linspace(-4, 4)\n",
    "plt.plot(x, (b-x*V[0])/V[1], linewidth=2)\n",
    "plt.xlabel('x')\n",
    "plt.ylabel('y')\n",
    "plt.axis('equal')\n",
    "plt.show()"
   ]
  },
  {
   "cell_type": "markdown",
   "metadata": {},
   "source": [
    "**********************************"
   ]
  }
 ],
 "metadata": {
  "kernelspec": {
   "display_name": "Python 3",
   "language": "python",
   "name": "python3"
  },
  "language_info": {
   "codemirror_mode": {
    "name": "ipython",
    "version": 3
   },
   "file_extension": ".py",
   "mimetype": "text/x-python",
   "name": "python",
   "nbconvert_exporter": "python",
   "pygments_lexer": "ipython3",
   "version": "3.6.1"
  }
 },
 "nbformat": 4,
 "nbformat_minor": 2
}
